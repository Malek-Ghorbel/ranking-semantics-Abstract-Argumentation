{
  "nbformat": 4,
  "nbformat_minor": 0,
  "metadata": {
    "colab": {
      "provenance": [],
      "authorship_tag": "ABX9TyNiz6E1l/+mZlyjCOLW9VKh",
      "include_colab_link": true
    },
    "kernelspec": {
      "name": "python3",
      "display_name": "Python 3"
    },
    "language_info": {
      "name": "python"
    }
  },
  "cells": [
    {
      "cell_type": "markdown",
      "metadata": {
        "id": "view-in-github",
        "colab_type": "text"
      },
      "source": [
        "<a href=\"https://colab.research.google.com/github/Malek-Ghorbel/ranking-semantics-Abstract-Argumentation/blob/main/3_Burden_based_semantic(Bbs).ipynb\" target=\"_parent\"><img src=\"https://colab.research.google.com/assets/colab-badge.svg\" alt=\"Open In Colab\"/></a>"
      ]
    },
    {
      "cell_type": "markdown",
      "source": [
        "# 1-Import librairies:"
      ],
      "metadata": {
        "id": "otiYd1RMArJp"
      }
    },
    {
      "cell_type": "code",
      "execution_count": 1,
      "metadata": {
        "id": "0UQAiyVW9NpT"
      },
      "outputs": [],
      "source": [
        "import matplotlib.pyplot as plt\n",
        "import networkx as nx"
      ]
    },
    {
      "cell_type": "markdown",
      "source": [
        "# **2-Create the graph**"
      ],
      "metadata": {
        "id": "KJjA3xZeA0oS"
      }
    },
    {
      "cell_type": "code",
      "source": [
        "def create_graph(nodes, edges):\n",
        "  G = nx.DiGraph()\n",
        "  G.add_nodes_from(nodes)\n",
        "  G.add_edges_from(edges)\n",
        "  return G"
      ],
      "metadata": {
        "id": "npZ5IMwU9aBh"
      },
      "execution_count": 2,
      "outputs": []
    },
    {
      "cell_type": "code",
      "source": [
        "nodes = ['a', 'b', 'c', 'd', 'e', 'f', 'g', 'h', 'i', 'j']\n",
        "edges = [('a', 'b'), ('b' , 'c'), ('b', 'f'), ('d', 'f'), ('d', 'g'), ('e', 'h'), ('e', 'd'), ('e', 'i'),  ('j', 'i'), ('h', 'g')]\n",
        "G = create_graph(nodes, edges)\n",
        "plt.figure(figsize =(10, 10))\n",
        "nx.draw_networkx(G, with_labels = True, node_color ='blue')"
      ],
      "metadata": {
        "colab": {
          "base_uri": "https://localhost:8080/",
          "height": 575
        },
        "id": "57GRcbnp9m-t",
        "outputId": "98cb4751-b8c8-4c51-9892-4f36f2a10b9d"
      },
      "execution_count": 4,
      "outputs": [
        {
          "output_type": "display_data",
          "data": {
            "text/plain": [
              "<Figure size 720x720 with 1 Axes>"
            ],
            "image/png": "[encoded data removed]"
          },
          "metadata": {}
        }
      ]
    },
    {
      "cell_type": "markdown",
      "source": [
        "# 3-Implement the function:"
      ],
      "metadata": {
        "id": "mbpWxeoXA_2Y"
      }
    },
    {
      "cell_type": "code",
      "source": [
        "def burden_based(G, threshold) :\n",
        "    node_to_index = {node: index for index, node in enumerate(G.nodes())}\n",
        "    predecessors = {node_to_index[node]: [node_to_index[pred] for pred in G.predecessors(node)] for node in G.nodes()}\n",
        "    num_nodes = G.number_of_nodes()\n",
        "    nodes = list(G.nodes())\n",
        "    steps = [1] * num_nodes\n",
        "    matrix = [steps]\n",
        "\n",
        "    for i in range(1, threshold+1):\n",
        "        new_steps = [0] * num_nodes\n",
        "        for j in range(num_nodes):\n",
        "            if not predecessors[j]:\n",
        "                new_steps[j] = 1\n",
        "            else:\n",
        "                total_sum = sum(1 / steps[pred_index] for pred_index in predecessors[j])\n",
        "                new_steps[j] = 1 + total_sum\n",
        "\n",
        "        matrix.append(new_steps)\n",
        "        steps = new_steps\n",
        "\n",
        "        if steps == matrix[-2]:\n",
        "            break\n",
        "    burden_vectors = list(zip(*matrix))\n",
        "    #print(burden_vectors)\n",
        "    nodes_bv = list(zip(nodes ,  burden_vectors ))\n",
        "    sorted_nodes = [x[0] for x in sorted(nodes_bv, key=lambda x: x[1:])]\n",
        "    return sorted_nodes"
      ],
      "metadata": {
        "id": "9hkYhx2J9s_r"
      },
      "execution_count": 9,
      "outputs": []
    },
    {
      "cell_type": "markdown",
      "source": [
        "# 3-Call the function"
      ],
      "metadata": {
        "id": "vZHAWXN6BL91"
      }
    },
    {
      "cell_type": "code",
      "source": [
        "burden_based(G,10)"
      ],
      "metadata": {
        "colab": {
          "base_uri": "https://localhost:8080/"
        },
        "id": "D9Fh1MBw-an5",
        "outputId": "a1d134f9-df2c-472c-9f7e-623ee1d58c18"
      },
      "execution_count": 10,
      "outputs": [
        {
          "output_type": "execute_result",
          "data": {
            "text/plain": [
              "['a', 'e', 'j', 'c', 'b', 'd', 'h', 'f', 'g', 'i']"
            ]
          },
          "metadata": {},
          "execution_count": 10
        }
      ]
    },
    {
      "cell_type": "code",
      "source": [],
      "metadata": {
        "id": "AC5MnBCz-fIR"
      },
      "execution_count": null,
      "outputs": []
    }
  ]
}